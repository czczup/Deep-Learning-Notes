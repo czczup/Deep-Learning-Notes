{
 "cells": [
  {
   "cell_type": "code",
   "execution_count": 1,
   "metadata": {
    "collapsed": true
   },
   "outputs": [],
   "source": [
    "import tensorflow as tf\n",
    "from tensorflow.examples.tutorials.mnist import input_data"
   ]
  },
  {
   "cell_type": "code",
   "execution_count": 2,
   "metadata": {},
   "outputs": [
    {
     "name": "stdout",
     "output_type": "stream",
     "text": [
      "Extracting MNIST_data\\train-images-idx3-ubyte.gz\n"
     ]
    },
    {
     "name": "stdout",
     "output_type": "stream",
     "text": [
      "Extracting MNIST_data\\train-labels-idx1-ubyte.gz\nExtracting MNIST_data\\t10k-images-idx3-ubyte.gz\nExtracting MNIST_data\\t10k-labels-idx1-ubyte.gz\n"
     ]
    },
    {
     "name": "stdout",
     "output_type": "stream",
     "text": [
      "Iter 0, Testing Accuracy = 0.1155, Training Accuracy = 0.1143\n"
     ]
    },
    {
     "name": "stdout",
     "output_type": "stream",
     "text": [
      "Iter 100, Testing Accuracy = 0.6696, Training Accuracy = 0.6637\n"
     ]
    },
    {
     "name": "stdout",
     "output_type": "stream",
     "text": [
      "Iter 200, Testing Accuracy = 0.7594, Training Accuracy = 0.7554\n"
     ]
    },
    {
     "name": "stdout",
     "output_type": "stream",
     "text": [
      "Iter 300, Testing Accuracy = 0.7697, Training Accuracy = 0.7604\n"
     ]
    },
    {
     "name": "stdout",
     "output_type": "stream",
     "text": [
      "Iter 400, Testing Accuracy = 0.7725, Training Accuracy = 0.7693\n"
     ]
    },
    {
     "name": "stdout",
     "output_type": "stream",
     "text": [
      "Iter 500, Testing Accuracy = 0.7836, Training Accuracy = 0.7778\n"
     ]
    },
    {
     "name": "stdout",
     "output_type": "stream",
     "text": [
      "Iter 600, Testing Accuracy = 0.8677, Training Accuracy = 0.8659\n"
     ]
    },
    {
     "name": "stdout",
     "output_type": "stream",
     "text": [
      "Iter 700, Testing Accuracy = 0.8766, Training Accuracy = 0.8746\n"
     ]
    },
    {
     "name": "stdout",
     "output_type": "stream",
     "text": [
      "Iter 800, Testing Accuracy = 0.8749, Training Accuracy = 0.8748\n"
     ]
    },
    {
     "name": "stdout",
     "output_type": "stream",
     "text": [
      "Iter 900, Testing Accuracy = 0.8799, Training Accuracy = 0.8783\n"
     ]
    },
    {
     "name": "stdout",
     "output_type": "stream",
     "text": [
      "Iter 1000, Testing Accuracy = 0.8818, Training Accuracy = 0.8811\n"
     ]
    },
    {
     "name": "stdout",
     "output_type": "stream",
     "text": [
      "Iter 1100, Testing Accuracy = 0.8828, Training Accuracy = 0.8781\n"
     ]
    },
    {
     "name": "stdout",
     "output_type": "stream",
     "text": [
      "Iter 1200, Testing Accuracy = 0.8838, Training Accuracy = 0.8834\n"
     ]
    },
    {
     "name": "stdout",
     "output_type": "stream",
     "text": [
      "Iter 1300, Testing Accuracy = 0.8854, Training Accuracy = 0.8828\n"
     ]
    },
    {
     "name": "stdout",
     "output_type": "stream",
     "text": [
      "Iter 1400, Testing Accuracy = 0.8872, Training Accuracy = 0.8832\n"
     ]
    },
    {
     "name": "stdout",
     "output_type": "stream",
     "text": [
      "Iter 1500, Testing Accuracy = 0.8873, Training Accuracy = 0.883\n"
     ]
    },
    {
     "name": "stdout",
     "output_type": "stream",
     "text": [
      "Iter 1600, Testing Accuracy = 0.8839, Training Accuracy = 0.8797\n"
     ]
    },
    {
     "name": "stdout",
     "output_type": "stream",
     "text": [
      "Iter 1700, Testing Accuracy = 0.889, Training Accuracy = 0.8881\n"
     ]
    },
    {
     "name": "stdout",
     "output_type": "stream",
     "text": [
      "Iter 1800, Testing Accuracy = 0.8872, Training Accuracy = 0.8862\n"
     ]
    },
    {
     "name": "stdout",
     "output_type": "stream",
     "text": [
      "Iter 1900, Testing Accuracy = 0.8892, Training Accuracy = 0.8847\n"
     ]
    },
    {
     "name": "stdout",
     "output_type": "stream",
     "text": [
      "Iter 2000, Testing Accuracy = 0.8886, Training Accuracy = 0.8864\n"
     ]
    },
    {
     "name": "stdout",
     "output_type": "stream",
     "text": [
      "Iter 2100, Testing Accuracy = 0.8892, Training Accuracy = 0.8853\n"
     ]
    },
    {
     "name": "stdout",
     "output_type": "stream",
     "text": [
      "Iter 2200, Testing Accuracy = 0.8872, Training Accuracy = 0.8838\n"
     ]
    },
    {
     "name": "stdout",
     "output_type": "stream",
     "text": [
      "Iter 2300, Testing Accuracy = 0.8902, Training Accuracy = 0.8871\n"
     ]
    },
    {
     "name": "stdout",
     "output_type": "stream",
     "text": [
      "Iter 2400, Testing Accuracy = 0.9781, Training Accuracy = 0.9835\n"
     ]
    },
    {
     "name": "stdout",
     "output_type": "stream",
     "text": [
      "Iter 2500, Testing Accuracy = 0.9759, Training Accuracy = 0.9791\n"
     ]
    },
    {
     "name": "stdout",
     "output_type": "stream",
     "text": [
      "Iter 2600, Testing Accuracy = 0.9794, Training Accuracy = 0.9854\n"
     ]
    },
    {
     "name": "stdout",
     "output_type": "stream",
     "text": [
      "Iter 2700, Testing Accuracy = 0.9811, Training Accuracy = 0.9858\n"
     ]
    },
    {
     "name": "stdout",
     "output_type": "stream",
     "text": [
      "Iter 2800, Testing Accuracy = 0.9805, Training Accuracy = 0.9854\n"
     ]
    },
    {
     "name": "stdout",
     "output_type": "stream",
     "text": [
      "Iter 2900, Testing Accuracy = 0.9831, Training Accuracy = 0.9879\n"
     ]
    },
    {
     "name": "stdout",
     "output_type": "stream",
     "text": [
      "Iter 3000, Testing Accuracy = 0.9826, Training Accuracy = 0.9875\n"
     ]
    },
    {
     "name": "stdout",
     "output_type": "stream",
     "text": [
      "Iter 3100, Testing Accuracy = 0.9831, Training Accuracy = 0.9872\n"
     ]
    },
    {
     "name": "stdout",
     "output_type": "stream",
     "text": [
      "Iter 3200, Testing Accuracy = 0.9841, Training Accuracy = 0.9875\n"
     ]
    },
    {
     "name": "stdout",
     "output_type": "stream",
     "text": [
      "Iter 3300, Testing Accuracy = 0.9838, Training Accuracy = 0.9882\n"
     ]
    },
    {
     "name": "stdout",
     "output_type": "stream",
     "text": [
      "Iter 3400, Testing Accuracy = 0.9858, Training Accuracy = 0.9935\n"
     ]
    },
    {
     "name": "stdout",
     "output_type": "stream",
     "text": [
      "Iter 3500, Testing Accuracy = 0.9843, Training Accuracy = 0.9924\n"
     ]
    },
    {
     "name": "stdout",
     "output_type": "stream",
     "text": [
      "Iter 3600, Testing Accuracy = 0.988, Training Accuracy = 0.9922\n"
     ]
    },
    {
     "name": "stdout",
     "output_type": "stream",
     "text": [
      "Iter 3700, Testing Accuracy = 0.9846, Training Accuracy = 0.9888\n"
     ]
    },
    {
     "name": "stdout",
     "output_type": "stream",
     "text": [
      "Iter 3800, Testing Accuracy = 0.9864, Training Accuracy = 0.9907\n"
     ]
    },
    {
     "name": "stdout",
     "output_type": "stream",
     "text": [
      "Iter 3900, Testing Accuracy = 0.9859, Training Accuracy = 0.9924\n"
     ]
    },
    {
     "name": "stdout",
     "output_type": "stream",
     "text": [
      "Iter 4000, Testing Accuracy = 0.9867, Training Accuracy = 0.9933\n"
     ]
    },
    {
     "name": "stdout",
     "output_type": "stream",
     "text": [
      "Iter 4100, Testing Accuracy = 0.9861, Training Accuracy = 0.9929\n"
     ]
    },
    {
     "name": "stdout",
     "output_type": "stream",
     "text": [
      "Iter 4200, Testing Accuracy = 0.9878, Training Accuracy = 0.9929\n"
     ]
    },
    {
     "name": "stdout",
     "output_type": "stream",
     "text": [
      "Iter 4300, Testing Accuracy = 0.9874, Training Accuracy = 0.992\n"
     ]
    },
    {
     "name": "stdout",
     "output_type": "stream",
     "text": [
      "Iter 4400, Testing Accuracy = 0.9847, Training Accuracy = 0.9917\n"
     ]
    },
    {
     "name": "stdout",
     "output_type": "stream",
     "text": [
      "Iter 4500, Testing Accuracy = 0.9854, Training Accuracy = 0.9938\n"
     ]
    },
    {
     "name": "stdout",
     "output_type": "stream",
     "text": [
      "Iter 4600, Testing Accuracy = 0.986, Training Accuracy = 0.9923\n"
     ]
    },
    {
     "name": "stdout",
     "output_type": "stream",
     "text": [
      "Iter 4700, Testing Accuracy = 0.9878, Training Accuracy = 0.995\n"
     ]
    },
    {
     "name": "stdout",
     "output_type": "stream",
     "text": [
      "Iter 4800, Testing Accuracy = 0.9856, Training Accuracy = 0.9941\n"
     ]
    },
    {
     "name": "stdout",
     "output_type": "stream",
     "text": [
      "Iter 4900, Testing Accuracy = 0.9878, Training Accuracy = 0.9922\n"
     ]
    },
    {
     "name": "stdout",
     "output_type": "stream",
     "text": [
      "Iter 5000, Testing Accuracy = 0.9882, Training Accuracy = 0.9947\n"
     ]
    },
    {
     "name": "stdout",
     "output_type": "stream",
     "text": [
      "Iter 5100, Testing Accuracy = 0.9878, Training Accuracy = 0.9935\n"
     ]
    },
    {
     "name": "stdout",
     "output_type": "stream",
     "text": [
      "Iter 5200, Testing Accuracy = 0.9874, Training Accuracy = 0.995\n"
     ]
    },
    {
     "name": "stdout",
     "output_type": "stream",
     "text": [
      "Iter 5300, Testing Accuracy = 0.9878, Training Accuracy = 0.9949\n"
     ]
    },
    {
     "name": "stdout",
     "output_type": "stream",
     "text": [
      "Iter 5400, Testing Accuracy = 0.986, Training Accuracy = 0.9942\n"
     ]
    },
    {
     "name": "stdout",
     "output_type": "stream",
     "text": [
      "Iter 5500, Testing Accuracy = 0.9883, Training Accuracy = 0.9949\n"
     ]
    },
    {
     "name": "stdout",
     "output_type": "stream",
     "text": [
      "Iter 5600, Testing Accuracy = 0.9881, Training Accuracy = 0.9962\n"
     ]
    },
    {
     "name": "stdout",
     "output_type": "stream",
     "text": [
      "Iter 5700, Testing Accuracy = 0.9886, Training Accuracy = 0.9962\n"
     ]
    },
    {
     "name": "stdout",
     "output_type": "stream",
     "text": [
      "Iter 5800, Testing Accuracy = 0.9888, Training Accuracy = 0.9951\n"
     ]
    },
    {
     "name": "stdout",
     "output_type": "stream",
     "text": [
      "Iter 5900, Testing Accuracy = 0.989, Training Accuracy = 0.9959\n"
     ]
    },
    {
     "name": "stdout",
     "output_type": "stream",
     "text": [
      "Iter 6000, Testing Accuracy = 0.9881, Training Accuracy = 0.9957\n"
     ]
    },
    {
     "name": "stdout",
     "output_type": "stream",
     "text": [
      "Iter 6100, Testing Accuracy = 0.989, Training Accuracy = 0.9969\n"
     ]
    },
    {
     "name": "stdout",
     "output_type": "stream",
     "text": [
      "Iter 6200, Testing Accuracy = 0.9894, Training Accuracy = 0.9973\n"
     ]
    },
    {
     "name": "stdout",
     "output_type": "stream",
     "text": [
      "Iter 6300, Testing Accuracy = 0.9864, Training Accuracy = 0.9956\n"
     ]
    },
    {
     "name": "stdout",
     "output_type": "stream",
     "text": [
      "Iter 6400, Testing Accuracy = 0.9896, Training Accuracy = 0.9968\n"
     ]
    },
    {
     "name": "stdout",
     "output_type": "stream",
     "text": [
      "Iter 6500, Testing Accuracy = 0.9878, Training Accuracy = 0.9961\n"
     ]
    },
    {
     "name": "stdout",
     "output_type": "stream",
     "text": [
      "Iter 6600, Testing Accuracy = 0.9877, Training Accuracy = 0.9949\n"
     ]
    },
    {
     "name": "stdout",
     "output_type": "stream",
     "text": [
      "Iter 6700, Testing Accuracy = 0.9892, Training Accuracy = 0.997\n"
     ]
    },
    {
     "name": "stdout",
     "output_type": "stream",
     "text": [
      "Iter 6800, Testing Accuracy = 0.9892, Training Accuracy = 0.9965\n"
     ]
    },
    {
     "name": "stdout",
     "output_type": "stream",
     "text": [
      "Iter 6900, Testing Accuracy = 0.9898, Training Accuracy = 0.9966\n"
     ]
    },
    {
     "name": "stdout",
     "output_type": "stream",
     "text": [
      "Iter 7000, Testing Accuracy = 0.9893, Training Accuracy = 0.9954\n"
     ]
    },
    {
     "name": "stdout",
     "output_type": "stream",
     "text": [
      "Iter 7100, Testing Accuracy = 0.99, Training Accuracy = 0.9963\n"
     ]
    },
    {
     "name": "stdout",
     "output_type": "stream",
     "text": [
      "Iter 7200, Testing Accuracy = 0.9891, Training Accuracy = 0.997\n"
     ]
    },
    {
     "name": "stdout",
     "output_type": "stream",
     "text": [
      "Iter 7300, Testing Accuracy = 0.9879, Training Accuracy = 0.9974\n"
     ]
    },
    {
     "name": "stdout",
     "output_type": "stream",
     "text": [
      "Iter 7400, Testing Accuracy = 0.9884, Training Accuracy = 0.9975\n"
     ]
    },
    {
     "name": "stdout",
     "output_type": "stream",
     "text": [
      "Iter 7500, Testing Accuracy = 0.99, Training Accuracy = 0.9974\n"
     ]
    },
    {
     "name": "stdout",
     "output_type": "stream",
     "text": [
      "Iter 7600, Testing Accuracy = 0.9894, Training Accuracy = 0.997\n"
     ]
    },
    {
     "name": "stdout",
     "output_type": "stream",
     "text": [
      "Iter 7700, Testing Accuracy = 0.9896, Training Accuracy = 0.9958\n"
     ]
    },
    {
     "name": "stdout",
     "output_type": "stream",
     "text": [
      "Iter 7800, Testing Accuracy = 0.9889, Training Accuracy = 0.9966\n"
     ]
    },
    {
     "name": "stdout",
     "output_type": "stream",
     "text": [
      "Iter 7900, Testing Accuracy = 0.9876, Training Accuracy = 0.9954\n"
     ]
    },
    {
     "name": "stdout",
     "output_type": "stream",
     "text": [
      "Iter 8000, Testing Accuracy = 0.9893, Training Accuracy = 0.9965\n"
     ]
    },
    {
     "name": "stdout",
     "output_type": "stream",
     "text": [
      "Iter 8100, Testing Accuracy = 0.9886, Training Accuracy = 0.9967\n"
     ]
    },
    {
     "name": "stdout",
     "output_type": "stream",
     "text": [
      "Iter 8200, Testing Accuracy = 0.9874, Training Accuracy = 0.9948\n"
     ]
    },
    {
     "name": "stdout",
     "output_type": "stream",
     "text": [
      "Iter 8300, Testing Accuracy = 0.9893, Training Accuracy = 0.9974\n"
     ]
    },
    {
     "name": "stdout",
     "output_type": "stream",
     "text": [
      "Iter 8400, Testing Accuracy = 0.9892, Training Accuracy = 0.9975\n"
     ]
    },
    {
     "name": "stdout",
     "output_type": "stream",
     "text": [
      "Iter 8500, Testing Accuracy = 0.9884, Training Accuracy = 0.996\n"
     ]
    },
    {
     "name": "stdout",
     "output_type": "stream",
     "text": [
      "Iter 8600, Testing Accuracy = 0.9891, Training Accuracy = 0.9972\n"
     ]
    },
    {
     "name": "stdout",
     "output_type": "stream",
     "text": [
      "Iter 8700, Testing Accuracy = 0.9893, Training Accuracy = 0.9964\n"
     ]
    },
    {
     "name": "stdout",
     "output_type": "stream",
     "text": [
      "Iter 8800, Testing Accuracy = 0.9891, Training Accuracy = 0.997\n"
     ]
    },
    {
     "name": "stdout",
     "output_type": "stream",
     "text": [
      "Iter 8900, Testing Accuracy = 0.9903, Training Accuracy = 0.9979\n"
     ]
    },
    {
     "name": "stdout",
     "output_type": "stream",
     "text": [
      "Iter 9000, Testing Accuracy = 0.9892, Training Accuracy = 0.9975\n"
     ]
    },
    {
     "name": "stdout",
     "output_type": "stream",
     "text": [
      "Iter 9100, Testing Accuracy = 0.9896, Training Accuracy = 0.9977\n"
     ]
    },
    {
     "name": "stdout",
     "output_type": "stream",
     "text": [
      "Iter 9200, Testing Accuracy = 0.9908, Training Accuracy = 0.9975\n"
     ]
    },
    {
     "name": "stdout",
     "output_type": "stream",
     "text": [
      "Iter 9300, Testing Accuracy = 0.9896, Training Accuracy = 0.9974\n"
     ]
    },
    {
     "name": "stdout",
     "output_type": "stream",
     "text": [
      "Iter 9400, Testing Accuracy = 0.9895, Training Accuracy = 0.9976\n"
     ]
    },
    {
     "name": "stdout",
     "output_type": "stream",
     "text": [
      "Iter 9500, Testing Accuracy = 0.9899, Training Accuracy = 0.9981\n"
     ]
    },
    {
     "name": "stdout",
     "output_type": "stream",
     "text": [
      "Iter 9600, Testing Accuracy = 0.9896, Training Accuracy = 0.9979\n"
     ]
    },
    {
     "name": "stdout",
     "output_type": "stream",
     "text": [
      "Iter 9700, Testing Accuracy = 0.9886, Training Accuracy = 0.9972\n"
     ]
    },
    {
     "name": "stdout",
     "output_type": "stream",
     "text": [
      "Iter 9800, Testing Accuracy = 0.9887, Training Accuracy = 0.9973\n"
     ]
    },
    {
     "name": "stdout",
     "output_type": "stream",
     "text": [
      "Iter 9900, Testing Accuracy = 0.989, Training Accuracy = 0.9977\n"
     ]
    },
    {
     "name": "stdout",
     "output_type": "stream",
     "text": [
      "Iter 10000, Testing Accuracy = 0.9899, Training Accuracy = 0.9981\n"
     ]
    }
   ],
   "source": [
    "mnist = input_data.read_data_sets('MNIST_data',one_hot=True)\n",
    "\n",
    "# 每个批次的大小\n",
    "batch_size = 100\n",
    "\n",
    "# 计算一共有多少个批次\n",
    "n_batch = mnist.train.num_examples // batch_size\n",
    "\n",
    "# 初始化权值\n",
    "def weight_variable(shape,name):\n",
    "    initial = tf.truncated_normal(shape,stddev=0.1)\n",
    "    return tf.Variable(initial,name=name)\n",
    "\n",
    "# 初始化偏置\n",
    "def bias_variable(shape,name):\n",
    "    initial = tf.constant(0.1,shape=shape)\n",
    "    return tf.Variable(initial,name=name)\n",
    "\n",
    "# 卷积层\n",
    "def conv2d(x,W):\n",
    "    # x input tensor of shape [batch,in_height,in_width,in_channels]\n",
    "    # W filter/kernel tensor of shape [filter_height,filter_width,in_channels,out_channels]\n",
    "    # strides[0] = strides[3] = 1,strides[1]代表x方向步长,strides[2]代表y方向步长\n",
    "    # padding: 'SAME' or 'VALID'\n",
    "    return tf.nn.conv2d(x,W,strides=[1,1,1,1],padding='SAME')\n",
    "\n",
    "# 池化层\n",
    "def max_pool_2x2(x):\n",
    "    # ksize [1,x,y,1]\n",
    "    return tf.nn.max_pool(x,ksize=[1,2,2,1],strides=[1,2,2,1],padding='SAME')\n",
    "\n",
    "with tf.name_scope('input'):\n",
    "    # 定义两个placeholder\n",
    "    x = tf.placeholder(tf.float32,[None,784],name='x_input')\n",
    "    y = tf.placeholder(tf.float32,[None,10],name='y_input')\n",
    "    with tf.name_scope('x_image'):\n",
    "        # 改变x的格式转为4D的向量 [batch,in_height,in_width,in_channels]\n",
    "        x_image = tf.reshape(x,[-1,28,28,1],name='x_image')\n",
    "        \n",
    "with tf.name_scope('Conv1'):\n",
    "    # 初始化第一个卷积层的权值和偏置\n",
    "    with tf.name_scope('W_conv1'):\n",
    "        W_conv1 = weight_variable([5,5,1,32],name='W_conv1') # 5*5采样窗口,32个卷积核从1个平面抽取特征\n",
    "    with tf.name_scope('b_conv1'):\n",
    "        b_conv1 = bias_variable([32],name='b_conv1') # 每一个卷积核只需要一个偏置值\n",
    "\n",
    "    # 把x_image和权值向量进行卷积,再加上偏置值,然后应用于relu激活函数\n",
    "    with tf.name_scope('conv2d_1'):\n",
    "        conv2d_1 = conv2d(x_image,W_conv1) + b_conv1\n",
    "    with tf.name_scope('relu'):\n",
    "        h_conv1 = tf.nn.relu(conv2d_1)\n",
    "    with tf.name_scope('h_pool1'): \n",
    "        h_pool1 = max_pool_2x2(h_conv1) # 进行max-pooling\n",
    "\n",
    "with tf.name_scope('Conv2'):\n",
    "    # 初始化第二个卷积层的权值和偏置\n",
    "    with tf.name_scope('W_conv2'):\n",
    "        W_conv2 = weight_variable([5,5,32,64],name='W_conv2') # 5*5采样窗口,64个卷积核从32个平面抽取特征\n",
    "    with tf.name_scope('b_conv2'):\n",
    "        b_conv2 = bias_variable([64],name='b_conv1') # 每一个卷积核只需要一个偏置值\n",
    "    \n",
    "    # 把h_pool1和权值向量进行卷积,再加上偏置值,然后应用于relu激活函数\n",
    "    with tf.name_scope('conv2d_2'):\n",
    "        conv2d_2 = conv2d(h_pool1,W_conv2) + b_conv2\n",
    "    with tf.name_scope('relu'):\n",
    "        h_conv2 = tf.nn.relu(conv2d_2)\n",
    "    with tf.name_scope('h_pool2'): \n",
    "        h_pool2 = max_pool_2x2(h_conv2) # 进行max-pooling\n",
    "\n",
    "# 28*28的图片第一次卷积后还是28*28,第一次池化后变为14*14\n",
    "# 第二次卷积后为14*14,第二次池化后变为7*7\n",
    "# 经过上面的操作后得到64张7*7的平面\n",
    "\n",
    "with tf.name_scope('fc1'):\n",
    "    # 初始化第一个全连接层的权值\n",
    "    with tf.name_scope('W_fc1'):\n",
    "        W_fc1 = weight_variable([7*7*64,1024],name='W_fc1') # 上一层有7*7*64个神经元,全连接层有1024个神经元\n",
    "    with tf.name_scope('b_fc1'):\n",
    "        b_fc1 = bias_variable([1024],name='b_fc1') # 1024个节点\n",
    "\n",
    "    with tf.name_scope('h_pool2_flat'):\n",
    "        # 把池化层2的输出扁平化为1维\n",
    "        h_pool2_flat = tf.reshape(h_pool2,[-1,7*7*64])\n",
    "\n",
    "    with tf.name_scope('wx_plus_b1'):\n",
    "        wx_plus_b1 = tf.matmul(h_pool2_flat,W_fc1) + b_fc1\n",
    "    with tf.name_scope('relu'):\n",
    "        # 求第一个全连接层的输出\n",
    "        h_fc1 = tf.nn.relu(wx_plus_b1)\n",
    "    with tf.name_scope('keep_prob'):\n",
    "        # keep_prob用来表示神经元的输出概率\n",
    "        keep_prob = tf.placeholder(tf.float32)\n",
    "    with tf.name_scope('h_fc1_drop'):\n",
    "        h_fc1_drop = tf.nn.dropout(h_fc1,keep_prob)\n",
    "\n",
    "# 初始化第二个全连接层\n",
    "with tf.name_scope('fc2'):\n",
    "    with tf.name_scope('W_fc2'):\n",
    "        W_fc2 = weight_variable([1024,10],name='W_fc2')\n",
    "    with tf.name_scope('b_fc2'):\n",
    "        b_fc2 = bias_variable([10],name='b_fc2')\n",
    "    with tf.name_scope('xw_plus_b2'):\n",
    "        wx_plus_b2 = tf.matmul(h_fc1,W_fc2) + b_fc2\n",
    "    with tf.name_scope('softmax'):\n",
    "        # 计算输出\n",
    "        prediction = tf.nn.softmax(wx_plus_b2)\n",
    "\n",
    "# 交叉熵代价函数     \n",
    "with tf.name_scope('cross_entropy'):\n",
    "    cross_entropy = tf.reduce_mean(tf.nn.softmax_cross_entropy_with_logits(labels=y,logits=prediction))\n",
    "    tf.summary.scalar('cross_entropy',cross_entropy)\n",
    "\n",
    "# 使用AdamOptimizer进行优化\n",
    "with tf.name_scope('train'):\n",
    "    train_step = tf.train.AdamOptimizer(1e-4).minimize(cross_entropy)\n",
    "\n",
    "# 求准确率\n",
    "with tf.name_scope('accuracy'):\n",
    "    with tf.name_scope('correct_prediction'):\n",
    "        # 结果存放在一个布尔列表中\n",
    "        correct_prediction = tf.equal(tf.argmax(prediction,1),tf.argmax(y,1))\n",
    "    with tf.name_scope('accuracy'):\n",
    "        # 求准确率\n",
    "        accuracy = tf.reduce_mean(tf.cast(correct_prediction,tf.float32))\n",
    "        tf.summary.scalar('accuracy',accuracy)\n",
    "\n",
    "# 合并所有的summary\n",
    "merged = tf.summary.merge_all()\n",
    "\n",
    "with tf.Session() as sess:\n",
    "    sess.run(tf.global_variables_initializer())\n",
    "    train_writer = tf.summary.FileWriter('logs/train',sess.graph)\n",
    "    test_writer = tf.summary.FileWriter('logs/test',sess.graph)\n",
    "    \n",
    "    for i in range(10001):\n",
    "        # 训练模型\n",
    "        batch_xs,batch_ys = mnist.train.next_batch(batch_size)\n",
    "        sess.run(train_step,feed_dict={x:batch_xs,y:batch_ys,keep_prob:0.5})\n",
    "        # 记录训练集计算的参数\n",
    "        summary = sess.run(merged,feed_dict={x:batch_xs,y:batch_ys,keep_prob:1.0})\n",
    "        train_writer.add_summary(summary,i)\n",
    "        # 记录测试集计算的参数\n",
    "        batch_xs,batch_ys = mnist.test.next_batch(batch_size)\n",
    "        summary = sess.run(merged,feed_dict={x:batch_xs,y:batch_ys,keep_prob:1.0})\n",
    "        test_writer.add_summary(summary,i)\n",
    "        \n",
    "        if i%100 == 0:\n",
    "            test_acc = sess.run(accuracy,feed_dict={x:mnist.test.images,y:mnist.test.labels,keep_prob:1.0})\n",
    "            train_acc = sess.run(accuracy,feed_dict={x:mnist.train.images[:10000],y:mnist.train.labels[:10000],keep_prob:1.0})\n",
    "            print(\"Iter \" + str(i) + \", Testing Accuracy = \" + str(test_acc) + \", Training Accuracy = \" + str(train_acc))"
   ]
  },
  {
   "cell_type": "code",
   "execution_count": null,
   "metadata": {},
   "outputs": [],
   "source": [
    ""
   ]
  }
 ],
 "metadata": {
  "kernelspec": {
   "display_name": "Python 2",
   "language": "python",
   "name": "python2"
  },
  "language_info": {
   "codemirror_mode": {
    "name": "ipython",
    "version": 2
   },
   "file_extension": ".py",
   "mimetype": "text/x-python",
   "name": "python",
   "nbconvert_exporter": "python",
   "pygments_lexer": "ipython2",
   "version": "2.7.6"
  }
 },
 "nbformat": 4,
 "nbformat_minor": 0
}
